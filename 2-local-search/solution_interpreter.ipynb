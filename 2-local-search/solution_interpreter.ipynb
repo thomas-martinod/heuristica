{
 "cells": [
  {
   "cell_type": "markdown",
   "metadata": {},
   "source": [
    "# Solution Interpreter\n",
    "\n",
    "The results should be in the following format: The first row should contain 3 values: number of vehicles $m$, total distance traveled, and computation time (in milliseconds rounded to the nearest integer). The next $m$ rows (one for each vehicle) should contain the number of nodes to visit (not counting the depot), the route traveled by each respective vehicle (ordered list of nodes including depots), the arrival times at each node, and the total load of the vehicle.\n",
    "\n",
    "\n",
    "The following is an example of a feasible solution:\n",
    "\n",
    "$$\n",
    "\\begin{matrix}\n",
    "4 & 70,493 & 0 & & & & & & & \\\\\n",
    "2 & 0 & 5 & 3 & 0 & 0 & 3,606 & 13,078 & 25,078 & 3 \\\\\n",
    "2 & 0 & 1 & 4 & 0 & 0 & 5,657 & 16,042 & 26,859 & 7 \\\\\n",
    "1 & 0 & 2 & 0 & 7,616 & 20,232 & 5 & & &\\\\\n",
    "1 & 0 & 6 & 0 & 11,662 & 28,324 & 4 & & &\n",
    "\\end{matrix}\n",
    "$$\n",
    "\n",
    "The above solution uses 4 vehicles, with a total distance traveled of 70,493. The first vehicle visits 2 nodes: it starts from node 0, visits nodes 5 and 3, and returns to node 0. The arrival time at each node is 0, 3.606, 13.078, and 25.078, respectively. The total load of the first vehicle is 3 (1 + 2)."
   ]
  },
  {
   "cell_type": "code",
   "execution_count": 77,
   "metadata": {},
   "outputs": [],
   "source": [
    "import pandas as pd\n",
    "from math import isnan\n",
    "\n",
    "def read_instance_solution(path, sheet_name):\n",
    "    xls = pd.ExcelFile(path)\n",
    "    df = pd.read_excel(xls, sheet_name = f'{sheet_name}', header = None)\n",
    "    return df\n",
    "\n",
    "def last_index_not_NaN_of_row(arr):\n",
    "    for i in range(len(arr) - 1):\n",
    "        if isnan(arr[i]):\n",
    "            return i - 1\n",
    "    return -1           # There is a row in which there are not nan values\n",
    "\n",
    "def find_pair_of_zeros(arr):\n",
    "    for i in range(len(arr) - 1):               # Loop until the second to last element\n",
    "        if arr[i] == 0 and arr[i + 1] == 0:\n",
    "            return i                            # Return the index of the first zero in the pair\n",
    "    return -1                                   # Return -1 if no pair of consecutive zeros is found\n",
    "\n",
    "def obtain_route(j, sheet_df):\n",
    "    row = list(sheet_df.iloc[j])\n",
    "    # we know there is always two adjacent zeros (the end of the route and the time of the first deposit)\n",
    "    zero_pos = find_pair_of_zeros(row)\n",
    "\n",
    "    visited_nodes = row[0]      # other than the deposits\n",
    "    route = row[1:zero_pos+1]   # +1 because it don't include the last index\n",
    "    capacity_used = row[last_index_not_NaN_of_row(row)]\n",
    "\n",
    "    return visited_nodes, route, capacity_used\n",
    "\n",
    "\n",
    "def info_of_all_routes(sheet_df):\n",
    "    number_of_routes = sheet_df[0][0]   # col 0, row 0 indicates K = number of vehicles\n",
    "\n",
    "    initial_solution = []\n",
    "    for i in range(1, number_of_routes + 1, 1):         # Exclude the first row\n",
    "        visited_nodes, route, capacity_used = obtain_route(i, sheet_df)\n",
    "        initial_solution.append({'number_of_visited_nodes': visited_nodes, 'route' : route, 'total_capacity_used' : capacity_used})\n",
    "\n",
    "    return initial_solution\n",
    "\n",
    "\n",
    "# path = 'C:\\\\Users\\\\thomm\\\\Documents\\\\GitHub\\\\heuristica\\\\2-local-search\\\\constructive-results\\\\VRPTW_tm_ACO.xlsx'\n",
    "# sheet_name = 'VRPTW1'\n",
    "\n",
    "# df = read_instance_solution(path, sheet_name)\n",
    "# initial_solution = info_of_all_routes(df)\n",
    "\n",
    "# print(initial_solution)\n"
   ]
  }
 ],
 "metadata": {
  "kernelspec": {
   "display_name": "Python 3",
   "language": "python",
   "name": "python3"
  },
  "language_info": {
   "codemirror_mode": {
    "name": "ipython",
    "version": 3
   },
   "file_extension": ".py",
   "mimetype": "text/x-python",
   "name": "python",
   "nbconvert_exporter": "python",
   "pygments_lexer": "ipython3",
   "version": "3.11.3"
  }
 },
 "nbformat": 4,
 "nbformat_minor": 2
}
